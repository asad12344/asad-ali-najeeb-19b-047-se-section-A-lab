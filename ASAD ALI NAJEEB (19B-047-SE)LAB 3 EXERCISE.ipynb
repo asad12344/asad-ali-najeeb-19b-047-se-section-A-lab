{
 "cells": [
  {
   "cell_type": "markdown",
   "metadata": {},
   "source": [
    "# ASAD ALI NAJEEB (19B-047-SE)LAB  3 EXERCISE"
   ]
  },
  {
   "cell_type": "code",
   "execution_count": 1,
   "metadata": {},
   "outputs": [
    {
     "name": "stdout",
     "output_type": "stream",
     "text": [
      "Enter Radius: 0.7\n",
      "linear velocity is 7.0 m/s\n"
     ]
    }
   ],
   "source": [
    "#PROGRAMMING EXERCISE\n",
    "#Question 1\n",
    "angular_speed = 10\n",
    "Radius =float(input(\"Enter Radius: \"))\n",
    "velocity = Radius * angular_speed\n",
    "print(\"linear velocity is\",velocity,\"m/s\")"
   ]
  },
  {
   "cell_type": "code",
   "execution_count": 2,
   "metadata": {},
   "outputs": [
    {
     "name": "stdout",
     "output_type": "stream",
     "text": [
      "Enter Radius: 4\n",
      "Enter Revolutionper minute: 4000\n",
      "Linear velocity is : 1675.5160819145565 m/s\n"
     ]
    }
   ],
   "source": [
    "#Question 2\n",
    "from math import pi\n",
    "r =float(input(\"Enter Radius: \"))\n",
    "rpm =int(input(\"Enter Revolutionper minute: \"))\n",
    "x =rpm/60\n",
    "w =x*2*pi\n",
    "v =r*w\n",
    "print(\"Linear velocity is :\",v,\"m/s\")"
   ]
  },
  {
   "cell_type": "code",
   "execution_count": 5,
   "metadata": {},
   "outputs": [
    {
     "name": "stdout",
     "output_type": "stream",
     "text": [
      "Enter velocity: 12\n",
      "Enter Radius: 30\n",
      "0.3 m\n",
      "angular velocity is  40.0 rad/s\n"
     ]
    }
   ],
   "source": [
    "#Question 3\n",
    "velocity = float(input(\"Enter velocity: \"))\n",
    "Radius = float(input(\"Enter Radius: \"))\n",
    "R_in_meter = Radius/100\n",
    "print(R_in_meter,\"m\")\n",
    "angular_velocity = velocity/R_in_meter\n",
    "print(\"angular velocity is \",angular_velocity,\"rad/s\")"
   ]
  },
  {
   "cell_type": "code",
   "execution_count": 6,
   "metadata": {},
   "outputs": [
    {
     "name": "stdout",
     "output_type": "stream",
     "text": [
      "Enter Velocity: 10\n",
      "Enter Diameter: 50\n",
      "Angular speed is:  40.0 rad/s\n"
     ]
    }
   ],
   "source": [
    "#Question 4\n",
    "v =float(input(\"Enter Velocity: \"))\n",
    "d =float(input(\"Enter Diameter: \"))\n",
    "r = d/2\n",
    "r_in_meter=r/100\n",
    "w = v/r_in_meter\n",
    "print(\"Angular speed is: \",w,\"rad/s\")"
   ]
  },
  {
   "cell_type": "code",
   "execution_count": 1,
   "metadata": {},
   "outputs": [
    {
     "name": "stdout",
     "output_type": "stream",
     "text": [
      "Enter Radius in cm: 20\n",
      "Enter angular speed in rpm: 120\n",
      "Enter Time in sec: 10\n",
      "Distance is:  25.132741228718345 m\n"
     ]
    }
   ],
   "source": [
    "#Question 5\n",
    "from math import pi\n",
    "r=float(input(\"Enter Radius in cm: \"))\n",
    "angular_speed=float(input(\"Enter angular speed in rpm: \"))\n",
    "t=float(input(\"Enter Time in sec: \"))\n",
    "r_in_meter=r/100\n",
    "x = angular_speed/60\n",
    "w = x*2*pi\n",
    "v = r_in_meter*w\n",
    "distance=v*t\n",
    "print(\"Distance is: \",distance,\"m\")"
   ]
  },
  {
   "cell_type": "code",
   "execution_count": 2,
   "metadata": {},
   "outputs": [
    {
     "name": "stdout",
     "output_type": "stream",
     "text": [
      "Enter Velocity miles per hour: 40\n",
      "Enter Acceeration in miles per hour^2: 10\n",
      "Enter Time in Hours; 2\n",
      "distance is 193121.28 meters\n"
     ]
    }
   ],
   "source": [
    "#Question 6\n",
    "u = float(input(\"Enter Velocity miles per hour: \"))\n",
    "a = float(input(\"Enter Acceeration in miles per hour^2: \"))\n",
    "t =  float(input(\"Enter Time in Hours; \"))\n",
    "v=u+(a*t)\n",
    "d=v*t\n",
    "d_in_meter=d*1609.344\n",
    "print(\"distance is\",d_in_meter,\"meters\")"
   ]
  },
  {
   "cell_type": "code",
   "execution_count": 3,
   "metadata": {},
   "outputs": [
    {
     "name": "stdout",
     "output_type": "stream",
     "text": [
      "Enter height in feet: 100\n",
      "The velocity with which stone hit the ground is:  24.441334822636467 m/s\n"
     ]
    }
   ],
   "source": [
    "#Question 7\n",
    "from math import sqrt\n",
    "u = 0\n",
    "a = 9.8\n",
    "h = float(input(\"Enter height in feet: \"))\n",
    "h_in_meter=h/3.281\n",
    "v = sqrt((2*a*h_in_meter)+u**2)\n",
    "print(\"The velocity with which stone hit the ground is: \",v,\"m/s\")\n"
   ]
  }
 ],
 "metadata": {
  "kernelspec": {
   "display_name": "Python 3",
   "language": "python",
   "name": "python3"
  },
  "language_info": {
   "codemirror_mode": {
    "name": "ipython",
    "version": 3
   },
   "file_extension": ".py",
   "mimetype": "text/x-python",
   "name": "python",
   "nbconvert_exporter": "python",
   "pygments_lexer": "ipython3",
   "version": "3.7.3"
  }
 },
 "nbformat": 4,
 "nbformat_minor": 2
}
