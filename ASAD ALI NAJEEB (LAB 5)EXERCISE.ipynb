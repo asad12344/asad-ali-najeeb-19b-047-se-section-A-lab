{
 "cells": [
  {
   "cell_type": "markdown",
   "metadata": {},
   "source": [
    "# ASAD ALI NAJEEB (19B-047-SE) LAB 4 EXERCISE"
   ]
  },
  {
   "cell_type": "code",
   "execution_count": 29,
   "metadata": {},
   "outputs": [
    {
     "name": "stdout",
     "output_type": "stream",
     "text": [
      "The area of cylinder is: 87.96459430051421 cm²\n",
      "The volume of cylinder is: 62.83185307179586 cm³\n"
     ]
    }
   ],
   "source": [
    "# program 1\n",
    "from math import pi\n",
    "def cylinderarea(r,h):\n",
    "    area = (2 * pi * r * h) + (2* pi * (r**2))\n",
    "    print(\"The area of cylinder is: {0} cm\\u00b2\".format(area))\n",
    "    return \n",
    "cylinderarea(2,5)\n",
    "\n",
    "def cylindervolume(r,h):\n",
    "    volume = (pi * (r**2) * h)\n",
    "    print(\"The volume of cylinder is: {0} cm\\u00b3\".format(volume))\n",
    "    return \n",
    "cylindervolume(2,5)"
   ]
  },
  {
   "cell_type": "code",
   "execution_count": 2,
   "metadata": {},
   "outputs": [
    {
     "name": "stdout",
     "output_type": "stream",
     "text": [
      "The area of rectangle is: 12 cm²\n"
     ]
    }
   ],
   "source": [
    "# program 2\n",
    "def rectangleArea(l,b):\n",
    "    area = l * b\n",
    "    print(\"The area of rectangle is: {0} cm\\u00b2\".format(area))\n",
    "    return\n",
    "rectangleArea(3, 4)"
   ]
  },
  {
   "cell_type": "code",
   "execution_count": 4,
   "metadata": {},
   "outputs": [
    {
     "name": "stdout",
     "output_type": "stream",
     "text": [
      "Enter the first term of the sequence: 3\n",
      "Enter the common difference of the sequence: 6\n",
      "Do you want to find the nth term Yes or No: Yes\n",
      "Enter the nth term you want to find: 35\n",
      "207\n",
      "Do you want to find another nth term of the sequence: Yes\n",
      "Enter the nth term you want to find: 45\n",
      "267\n",
      "Do you want to find another nth term of the sequence: Yes\n",
      "Enter the nth term you want to find: 90\n",
      "537\n",
      "Do you want to find another nth term of the sequence: NO\n"
     ]
    },
    {
     "data": {
      "text/plain": [
       "('The answer of the nth term you entered is: ', 537)"
      ]
     },
     "execution_count": 4,
     "metadata": {},
     "output_type": "execute_result"
    }
   ],
   "source": [
    "# program 3\n",
    "def sequence(a,d):\n",
    "    x = str(input(\"Do you want to find the nth term Yes or No: \"))    \n",
    "    y = x.casefold()    \n",
    "    #print(y)    \n",
    "    while(y == \"yes\"):        \n",
    "        n = int(input(\"Enter the nth term you want to find: \"))        \n",
    "        tn = a + ((n - 1) * d)        \n",
    "        print(tn)        \n",
    "        x = input(\"Do you want to find another nth term of the sequence: \")        \n",
    "        y = x.casefold()    \n",
    "    return \"The answer of the nth term you entered is: \", tn \n",
    "a = int(input(\"Enter the first term of the sequence: \")) \n",
    "d = int(input(\"Enter the common difference of the sequence: \")) \n",
    "sequence(a,d)"
   ]
  },
  {
   "cell_type": "code",
   "execution_count": 11,
   "metadata": {},
   "outputs": [
    {
     "name": "stdout",
     "output_type": "stream",
     "text": [
      "Enter the text to check for palindrome: CiViC\n",
      "The text is palindrome\n"
     ]
    }
   ],
   "source": [
    "# program 4\n",
    "def palindrome(text):\n",
    "    x = text.casefold()\n",
    "    #print(x)\n",
    "    y = len(text)\n",
    "    #print(y)\n",
    "    z = x[y::-1]\n",
    "    #print(z)\n",
    "    if x == z:\n",
    "        print(\"The text is palindrome\")\n",
    "    else:\n",
    "        print(\"sorry!\")\n",
    "    return\n",
    "text = str(input(\"Enter the text to check for palindrome: \"))\n",
    "palindrome(text)    "
   ]
  },
  {
   "cell_type": "code",
   "execution_count": 3,
   "metadata": {},
   "outputs": [
    {
     "name": "stdout",
     "output_type": "stream",
     "text": [
      "Name: ASAD ALI NAJEEB\n",
      "Father Name: NAJEEB AHMED\n",
      "Roll No: 373101\n",
      "Enter your Math marks: 80\n",
      "Enter your Physics marks: 70\n",
      "Enter your Computer marks: 75\n",
      "Enter your Urdu marks: 65\n",
      "Enter your Islamiat marks: 72\n",
      "\n",
      "\n",
      "----------------------------------------------------------------------------------------------------------\n",
      "\t\t\t\t\tBoard of Intermediate Education, Karachi \n",
      "\t\t\t\t\t\t STATEMENT OF MARKS \n",
      "\t\t\t\t\t\t H.S.C EXAMINATION \n",
      "\n",
      "\t\t\t\t\t\t SCIENCE GROUP\n",
      "----------------------------------------------------------------------------------------------------------\n",
      "\t\t\tASAD ALI NAJEEB\t\t\tNAJEEB AHMED\t\t\t373101\n",
      "----------------------------------------------------------------------------------------------------------\n",
      "\n",
      "\n",
      "\t\t\t\tMaths: 80  |  100 \n",
      "\t\t\t\tPhysics: 70  |  100 \n",
      "\t\t\t\tComputer: 75 | 100 \n",
      "\t\t\t\tUrdu: 65  |  100  \n",
      "\t\t\t\tIslamiat:  72  |  100\n",
      "----------------------------------------------------------------------------------------------------------\n",
      "Percentage:  72.39999999999999 %  \t\t\tobtained Marks:  362 \t\t\tGrade:  A\n",
      "----------------------------------------------------------------------------------------------------------\n"
     ]
    }
   ],
   "source": [
    "# program 5\n",
    "def personal_detail(name, fathername, rollNo):\n",
    "    \n",
    "    print('\\t\\t\\t{0}\\t\\t\\t{1}\\t\\t\\t{2}'.format(name, fathername, rollNo))\n",
    "    return\n",
    "name = str(input(\"Name: \"))\n",
    "fathername = str(input(\"Father Name: \"))\n",
    "rollNo = int(input(\"Roll No: \"))\n",
    "\n",
    "def score(maths, phy, comp, urdu, isl, obtained_marks):\n",
    "          \n",
    "    print(\"\\t\\t\\t\\tMaths: {0}  |  100 \\n\\t\\t\\t\\tPhysics: {1}  |  100 \\n\\t\\t\\t\\tComputer: {2} | 100 \\n\\t\\t\\t\\tUrdu: {3}  |  100  \\n\\t\\t\\t\\tIslamiat:  {4}  |  100\".format(maths,phy,comp,urdu,isl))\n",
    "    return\n",
    "maths = eval(input(\"Enter your Math marks: \"))\n",
    "phy = eval(input(\"Enter your Physics marks: \"))\n",
    "comp = eval(input(\"Enter your Computer marks: \"))\n",
    "urdu = eval(input(\"Enter your Urdu marks: \"))\n",
    "isl = eval(input(\"Enter your Islamiat marks: \"))   \n",
    "obtained_marks = (maths + phy + comp + urdu + isl) \n",
    "          \n",
    "def grading(obtained_marks, total_marks,grade):\n",
    "    \n",
    "    print(\"Percentage: \",percentage,\"%  \\t\\t\\tobtained Marks: \", obtained_marks,\"\\t\\t\\tGrade: \", grade)\n",
    "    return\n",
    "total_marks = 500\n",
    "percentage = (obtained_marks / total_marks) * 100\n",
    "if percentage >= 80:\n",
    "    grade = \"A+\"\n",
    "elif percentage >= 70 and percentage < 80:\n",
    "    grade = \"A\"\n",
    "elif percentage >= 60 and percentage < 70:\n",
    "    grade = \"B\"\n",
    "elif percentage >= 50 and percentage < 60:\n",
    "    grade = \"c\"\n",
    "elif percentage >= 50 and percentage < 40:\n",
    "    grades = \"D\"\n",
    "else:\n",
    "    grade = \"F\"\n",
    "\n",
    "\n",
    "    \n",
    "print(\"\\n\")\n",
    "print(\"----------------------------------------------------------------------------------------------------------\")\n",
    "print(\"\\t\\t\\t\\t\\tBoard of Intermediate Education, Karachi \\n\\t\\t\\t\\t\\t\\t STATEMENT OF MARKS \\n\\t\\t\\t\\t\\t\\t H.S.C EXAMINATION \\n\\n\\t\\t\\t\\t\\t\\t SCIENCE GROUP\")\n",
    "print(\"----------------------------------------------------------------------------------------------------------\")\n",
    "personal_detail(name, fathername, rollNo)\n",
    "print(\"----------------------------------------------------------------------------------------------------------\")\n",
    "print(\"\\n\")\n",
    "score(maths, phy, comp, urdu, isl, obtained_marks)\n",
    "print(\"----------------------------------------------------------------------------------------------------------\")\n",
    "grading(obtained_marks, total_marks,grade)\n",
    "print(\"----------------------------------------------------------------------------------------------------------\")"
   ]
  },
  {
   "cell_type": "code",
   "execution_count": 8,
   "metadata": {},
   "outputs": [
    {
     "ename": "NameError",
     "evalue": "name 'm' is not defined",
     "output_type": "error",
     "traceback": [
      "\u001b[1;31m---------------------------------------------------------------------------\u001b[0m",
      "\u001b[1;31mNameError\u001b[0m                                 Traceback (most recent call last)",
      "\u001b[1;32m<ipython-input-8-c2e3853696c5>\u001b[0m in \u001b[0;36m<module>\u001b[1;34m\u001b[0m\n\u001b[0;32m      8\u001b[0m     \u001b[0mprint\u001b[0m\u001b[1;33m(\u001b[0m\u001b[1;34m\"The force of inertia is: {0}\"\u001b[0m\u001b[1;33m.\u001b[0m\u001b[0mformat\u001b[0m\u001b[1;33m(\u001b[0m\u001b[0mf\u001b[0m\u001b[1;33m)\u001b[0m\u001b[1;33m,\u001b[0m \u001b[1;34m\"N\"\u001b[0m\u001b[1;33m)\u001b[0m\u001b[1;33m\u001b[0m\u001b[1;33m\u001b[0m\u001b[0m\n\u001b[0;32m      9\u001b[0m     \u001b[1;32mreturn\u001b[0m\u001b[1;33m\u001b[0m\u001b[1;33m\u001b[0m\u001b[0m\n\u001b[1;32m---> 10\u001b[1;33m \u001b[0minertia\u001b[0m\u001b[1;33m(\u001b[0m\u001b[0mm\u001b[0m\u001b[1;33m,\u001b[0m \u001b[0mv\u001b[0m\u001b[1;33m,\u001b[0m \u001b[0mt\u001b[0m\u001b[1;33m)\u001b[0m\u001b[1;33m\u001b[0m\u001b[1;33m\u001b[0m\u001b[0m\n\u001b[0m\u001b[0;32m     11\u001b[0m \u001b[1;33m\u001b[0m\u001b[0m\n\u001b[0;32m     12\u001b[0m \u001b[1;31m# Second Law\u001b[0m\u001b[1;33m\u001b[0m\u001b[1;33m\u001b[0m\u001b[1;33m\u001b[0m\u001b[0m\n",
      "\u001b[1;31mNameError\u001b[0m: name 'm' is not defined"
     ]
    }
   ],
   "source": [
    "\n",
    "# program 6\n",
    "# First Law\n",
    "def inertia(m, v, t):\n",
    "    m = eval(input(\"Enter the mass of the object (in kg): \"))\n",
    "    v = eval(input(\"Enter the velocity with which objec is travelling (in m/s): \"))\n",
    "    t = eval(input(\"Enter the time (in s): \"))\n",
    "    f = (m * v) / t\n",
    "    print(\"The force of inertia is: {0}\".format(f), \"N\")\n",
    "    return\n",
    "inertia(m, v, t)\n",
    "\n",
    "# Second Law\n",
    "def secondLaw(m, a):\n",
    "    m = eval(input(\"Enter the mass of the object (in kg): \"))\n",
    "    a = eval(input(\"Enter the acceleration of the object (in m/s^2): \"))\n",
    "    f = m * a\n",
    "    print(\"The force is: {0}\".format(f), \"N\")\n",
    "    return\n",
    "secondLaw(m, a)\n",
    "\n",
    "# Third Law\n",
    "def thirdLaw(f1, f2):\n",
    "    f1 = eval(input(\"Enter the force 1 (in N): \"))\n",
    "    f2 = eval(input(\"Enter the force 2 (in N): \"))\n",
    "    if f1 == f2:\n",
    "        print(\"proved\")\n",
    "    else:\n",
    "        print(\"sorry!\")\n",
    "    return\n",
    "thirdLaw(f1, f2)"
   ]
  },
  {
   "cell_type": "code",
   "execution_count": 4,
   "metadata": {},
   "outputs": [
    {
     "name": "stdout",
     "output_type": "stream",
     "text": [
      "Enter the velocity of projectile (in m/s): 10\n",
      "Enter the angle of projectile: 30\n",
      "time for maximum height is:  0.510204081632653 s\n",
      "total time of flight is:  1.020408163265306 s\n",
      "maximum height is:  1.2755102040816322 m\n",
      "Range of projectile is:  8.83699391616774 m\n"
     ]
    }
   ],
   "source": [
    "# program 7\n",
    "from math import sin, pi\n",
    "v = eval(input(\"Enter the velocity of projectile (in m/s): \"))\n",
    "angle = eval(input(\"Enter the angle of projectile: \"))\n",
    "angle_in_radian = angle * (pi / 180)\n",
    "g = 9.8\n",
    "def time_maximum_height(v, g):\n",
    "    t = (v * (sin(angle_in_radian))) / g\n",
    "    print(\"time for maximum height is: \", t, \"s\")\n",
    "    return\n",
    "time_maximum_height(v, g)\n",
    "\n",
    "def total_time(v, g):\n",
    "    T = 2 * ((v * (sin(angle_in_radian))) / g)\n",
    "    print(\"total time of flight is: \", T, \"s\")\n",
    "    return\n",
    "total_time(v, g)\n",
    "\n",
    "def max_height(v, g):\n",
    "    h = (v ** 2) * (sin(angle_in_radian) ** 2) / (2 * g)\n",
    "    print(\"maximum height is: \", h,\"m\")\n",
    "    return\n",
    "max_height(v, g)\n",
    "\n",
    "def Range(v, g):\n",
    "    R = ((v ** 2) * (sin(2 * (angle_in_radian))) / g)\n",
    "    print(\"Range of projectile is: \", R, \"m\")\n",
    "    return\n",
    "Range(v, g)"
   ]
  },
  {
   "cell_type": "code",
   "execution_count": 9,
   "metadata": {},
   "outputs": [
    {
     "name": "stdout",
     "output_type": "stream",
     "text": [
      "Enter your name: ASAD ALI NAJEEB\n",
      "BEEJAN ILA DASA\n"
     ]
    }
   ],
   "source": [
    "# program 8\n",
    "def reverseName(name):\n",
    "    x = len(name)\n",
    "    y = name[x :: -1]\n",
    "    print(y)\n",
    "    return\n",
    "name = str(input(\"Enter your name: \"))\n",
    "reverseName(name)"
   ]
  },
  {
   "cell_type": "code",
   "execution_count": 46,
   "metadata": {},
   "outputs": [
    {
     "name": "stdout",
     "output_type": "stream",
     "text": [
      "['n', 'k', 'r', 'r', 'u', 's', 'e', 't', 'g', 's', 'k', 'o', 'y', 'm', 'a', 'r', 'k', 'n', 'g', 'y', 't', 'g', 'o', 't']\n"
     ]
    }
   ],
   "source": [
    "# program 9\n",
    "def encrypt(text, step):\n",
    "    outText =[]\n",
    "    encryptText = []\n",
    "    \n",
    "    uppercase = ['A', 'B', 'C', 'D', 'E', 'F', 'G', 'H', 'I', 'J', 'K', 'L', 'M', 'N', 'O', 'P', 'Q', 'R', 'S', 'T', 'U', 'V', 'W', 'X', 'Y', 'Z']\n",
    "    lowercase = ['a', 'b', 'c', 'd', 'e', 'f', 'g', 'h', 'i', 'j', 'k', 'l', 'm', 'n', 'o', 'p', 'q', 'r', 's', 't', 'u', 'v', 'w', 'x', 'y', 'z']\n",
    "    \n",
    "    for eachLetter in text:\n",
    "        if eachLetter in uppercase:\n",
    "            index = uppercase.index(eachLetter)\n",
    "            encrypting = (index + step) % 26\n",
    "            encryptText.append(encrypting)\n",
    "            newLetter = uppercase[encrypting]\n",
    "            outText.append(newLetter)\n",
    "        elif eachLetter in lowercase:\n",
    "            index = lowercase.index(eachLetter)\n",
    "            encrypting = (index + step) % 26\n",
    "            encryptText.append(encrypting)\n",
    "            newLetter = lowercase[encrypting]\n",
    "            outText.append(newLetter)\n",
    "    print(outText)\n",
    "    return\n",
    "encrypt(\"hello my name is gul e hasnain\", 6)"
   ]
  },
  {
   "cell_type": "code",
   "execution_count": 21,
   "metadata": {},
   "outputs": [
    {
     "name": "stdout",
     "output_type": "stream",
     "text": [
      "Enter the starting value of the range: 45\n",
      "Enter the ending value of the range: 60\n",
      "0.8509035245341184 , 0.9017883476488092 , 0.123573122745224 , -0.7682546613236668 , -0.9537526527594719 , -0.26237485370392877 , 0.6702291758433747 , 0.9866275920404853 , 0.39592515018183416 , -0.5587890488516163 , -0.9997551733586199 , -0.5215510020869119 , 0.43616475524782494 , 0.9928726480845371 , 0.6367380071391379 , \n",
      "\n",
      "0.5253219888177297 , -0.4321779448847783 , -0.9923354691509287 , -0.6401443394691997 , 0.3005925437436371 , 0.9649660284921133 , 0.7421541968137826 , -0.16299078079570548 , -0.9182827862121189 , -0.8293098328631502 , 0.022126756261955736 , 0.853220107722584 , 0.8998668269691938 , 0.11918013544881928 , -0.7710802229758452 , \n",
      "\n",
      "1.6197751905438615 , -2.086613531121382 , -0.12452756813273719 , 1.2001272431162864 , -3.172908552159191 , -0.27190061199763077 , 0.9030861493754312 , -6.053272382792838 , -0.4311581967195641 , 0.6738001006480598 , -45.18308791052113 , -0.6112736881917098 , 0.48469922679209587 , 8.330856852490458 , -0.8257740091968151 , "
     ]
    }
   ],
   "source": [
    "# program 10\n",
    "from math import sin, cos, tan, pi\n",
    "startingValue = eval(input(\"Enter the starting value of the range: \"))\n",
    "endingValue = eval(input(\"Enter the ending value of the range: \"))\n",
    "def trig_sin(startingValue, endingValue):\n",
    "    for i in range(startingValue, endingValue):\n",
    "        calSin = sin(i)\n",
    "        print(calSin, end = \" , \")\n",
    "    return\n",
    "trig_sin(startingValue, endingValue)\n",
    "print(\"\\n\")\n",
    "\n",
    "def trig_cos(startingValue, endingValue):\n",
    "    for i in range(startingValue, endingValue):\n",
    "        calCos = cos(i)\n",
    "        print(calCos, end = \" , \")\n",
    "    return\n",
    "trig_cos(startingValue, endingValue)\n",
    "print(\"\\n\")\n",
    "\n",
    "def trig_tan(startingValue, endingValue):\n",
    "    for i in range(startingValue, endingValue):\n",
    "        calTan = tan(i)\n",
    "        print(calTan, end = \" , \")\n",
    "    return\n",
    "trig_tan(startingValue, endingValue)"
   ]
  },
  {
   "cell_type": "code",
   "execution_count": 1,
   "metadata": {},
   "outputs": [
    {
     "name": "stdout",
     "output_type": "stream",
     "text": [
      "Area including semi circle is: 153.93804002589985 cm² \n",
      "Area excluding semi circle is 76.96902001294993 cm²\n",
      "Perimeter excluding semi circles is:  98.96016858807847 cm\n",
      "Perimeter including semi circles is: 112.96016858807847 cm\n"
     ]
    }
   ],
   "source": [
    "# program 11\n",
    "from math import pi\n",
    "R = 14/2\n",
    "r = R/2\n",
    "area_include = pi * R**2\n",
    "area_exclude = (pi * R**2) -(pi * r**2)-(pi * r**2)\n",
    "Arc_Length = pi * R\n",
    "arc_length = pi * r**2\n",
    "print(\"Area including semi circle is:\",area_include,\"cm\\u00b2 \\nArea excluding semi circle is\",area_exclude,\"cm\\u00b2\")\n",
    "print(\"Perimeter excluding semi circles is: \",Arc_Length+arc_length+arc_length,\"cm\")\n",
    "print(\"Perimeter including semi circles is:\",Arc_Length+arc_length+arc_length+(R*2),\"cm\")"
   ]
  }
 ],
 "metadata": {
  "kernelspec": {
   "display_name": "Python 3",
   "language": "python",
   "name": "python3"
  },
  "language_info": {
   "codemirror_mode": {
    "name": "ipython",
    "version": 3
   },
   "file_extension": ".py",
   "mimetype": "text/x-python",
   "name": "python",
   "nbconvert_exporter": "python",
   "pygments_lexer": "ipython3",
   "version": "3.7.3"
  }
 },
 "nbformat": 4,
 "nbformat_minor": 2
}
